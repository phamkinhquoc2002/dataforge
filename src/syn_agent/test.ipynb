{
 "cells": [
  {
   "cell_type": "code",
   "execution_count": 1,
   "metadata": {},
   "outputs": [],
   "source": [
    "from llm_providers import GoogleAIModel\n",
    "import os\n",
    "from dotenv import load_dotenv\n",
    "\n",
    "load_dotenv()\n",
    "\n",
    "key = os.environ.get('GOOGLE_API_KEY')\n",
    "\n",
    "llm = GoogleAIModel(api_key=key)"
   ]
  },
  {
   "cell_type": "code",
   "execution_count": 2,
   "metadata": {},
   "outputs": [],
   "source": [
    "from multi_agent import SyntheticDataGenerator\n",
    "\n",
    "agent = SyntheticDataGenerator(llm=llm, buffer_size=10)"
   ]
  },
  {
   "cell_type": "code",
   "execution_count": 3,
   "metadata": {},
   "outputs": [],
   "source": [
    "from tasks import Task\n",
    "\n",
    "example_task = Task(\n",
    "    task_name=\"sft\",\n",
    "    grounded_knowledge=\"\"\"\n",
    "Leo energy embodies the fiery, bold, and expressive nature of the fifth sign of the zodiac. Ruled by the Sun—the center of our solar system—Leo energy radiates warmth, creativity, and a natural desire to be seen and appreciated.\n",
    "When Leo energy is prominent in a birth chart (whether through Sun, Moon, rising sign, or multiple planets in Leo), it often manifests as:\n",
    "Radiant self-expression: A natural flair for drama, performance, and creative pursuits. Leo energy loves to express itself authentically and isn't afraid to stand out.\n",
    "Natural leadership: Just as the lion is king of the jungle, Leo energy carries natural leadership qualities—commanding respect, inspiring others, and taking charge with confidence.\n",
    "Generosity and warmth: Leo energy is inherently giving, enthusiastic, and warm-hearted. It shares its light freely and enjoys making others feel special.\n",
    "Pride and dignity: There's a natural dignity to Leo energy that values respect and recognition. This can sometimes manifest as sensitivity to criticism or a strong need for acknowledgment.\n",
    "Playfulness: Despite its regal nature, Leo energy remains eternally youthful, finding joy in play, recreation, and celebration.\n",
    "In balanced form, Leo energy brings courage, inspiration, and authentic self-expression. When excessive, it might appear as egotism or attention-seeking behavior. When diminished, it can manifest as insecurity or creative blocks.\n",
    "Leo energy reminds us all of the importance of honoring our unique light and allowing ourselves to shine brightly.\n",
    "\"\"\",\n",
    "    task_description=\"Generate training examples for an astrology llm!\",\n",
    "    num_of_data=5,\n",
    "    language=\"English\"\n",
    ")"
   ]
  },
  {
   "cell_type": "code",
   "execution_count": 4,
   "metadata": {},
   "outputs": [
    {
     "name": "stderr",
     "output_type": "stream",
     "text": [
      "INFO:multi_agent:\n",
      "                     Add to conversation memory: [{'role': 'system', 'content': '\\nYou are an advanced synthetic data generator, engineered to produce high-quality, task-specific synthetic datasets. Your mission is to generate data samples in formats that precisely adhere to the requirements provided.\\n'}, {'role': 'user', 'content': 'You are tasked to help me generate a dataset of 5 rows entirely in English, based entirely on the following context:\\n\\nLeo energy embodies the fiery, bold, and expressive nature of the fifth sign of the zodiac. Ruled by the Sun—the center of our solar system—Leo energy radiates warmth, creativity, and a natural desire to be seen and appreciated.\\nWhen Leo energy is prominent in a birth chart (whether through Sun, Moon, rising sign, or multiple planets in Leo), it often manifests as:\\nRadiant self-expression: A natural flair for drama, performance, and creative pursuits. Leo energy loves to express itself authentically and isn\\'t afraid to stand out.\\nNatural leadership: Just as the lion is king of the jungle, Leo energy carries natural leadership qualities—commanding respect, inspiring others, and taking charge with confidence.\\nGenerosity and warmth: Leo energy is inherently giving, enthusiastic, and warm-hearted. It shares its light freely and enjoys making others feel special.\\nPride and dignity: There\\'s a natural dignity to Leo energy that values respect and recognition. This can sometimes manifest as sensitivity to criticism or a strong need for acknowledgment.\\nPlayfulness: Despite its regal nature, Leo energy remains eternally youthful, finding joy in play, recreation, and celebration.\\nIn balanced form, Leo energy brings courage, inspiration, and authentic self-expression. When excessive, it might appear as egotism or attention-seeking behavior. When diminished, it can manifest as insecurity or creative blocks.\\nLeo energy reminds us all of the importance of honoring our unique light and allowing ourselves to shine brightly.\\n\\n\\nYou must strictly follow the below format for this task:\\n[\\n  {\\n    \"prompt\": \"Your generated prompt\",\\n    \"completion\": \"Your completion text\"\\n  },\\n  ...\\n]\\n\\nNotes:\\n- Both \"prompt\" and \"completion\" fields must be non-empty. Answer must be in high quality and long enough.\\n- Each sample must be a JSON dictionary with two keys: \"prompt\" and \"completion\".\\n- You MUST ONLY return the output text with the above format and nothing else.\\n\\nAdditional Dataset Info: Generate training examples for an astrology llm!\\n'}]\n",
      "INFO:root:AFC is enabled with max remote calls: 10.\n",
      "INFO:root:AFC remote call 1 is done.\n",
      "INFO:multi_agent:Logging conversation!\n"
     ]
    },
    {
     "name": "stdout",
     "output_type": "stream",
     "text": [
      "{'generate': {'response': '```json\\n[\\n  {\\n    \"prompt\": \"Describe the core characteristics of Leo energy in astrology.\",\\n    \"completion\": \"Leo energy, ruled by the Sun, is fiery, bold, and expressive. It embodies warmth, creativity, and a desire for recognition. Key traits include radiant self-expression, natural leadership, generosity, pride, dignity, and playfulness. Leos often have a flair for drama and are natural leaders who inspire others.\"\\n  },\\n  {\\n    \"prompt\": \"How does Leo energy manifest in a birth chart?\",\\n    \"completion\": \"When Leo energy is prominent in a birth chart (Sun, Moon, rising sign, or multiple planets in Leo), it often manifests as a natural flair for drama, performance, and creative pursuits. Individuals with strong Leo placements tend to be natural leaders, generous, warm-hearted, and value respect and recognition. They also possess a youthful playfulness.\"\\n  },\\n  {\\n    \"prompt\": \"What are the positive and negative manifestations of Leo energy?\",\\n    \"completion\": \"In its balanced form, Leo energy brings courage, inspiration, and authentic self-expression. However, when excessive, it can manifest as egotism or attention-seeking behavior. When diminished, it can lead to insecurity or creative blocks. The key is to find a balance between shining brightly and being mindful of others.\"\\n  },\\n  {\\n    \"prompt\": \"Explain the connection between Leo energy and the Sun.\",\\n    \"completion\": \"Leo is ruled by the Sun, which is the center of our solar system. This connection highlights Leo\\'s radiant and central nature. Just as the Sun provides warmth and light, Leo energy radiates warmth, creativity, and a desire to be seen and appreciated. The Sun\\'s influence emphasizes Leo\\'s inherent desire to shine and express itself authentically.\"\\n  },\\n  {\\n    \"prompt\": \"How can someone honor their Leo energy?\",\\n    \"completion\": \"Leo energy reminds us of the importance of honoring our unique light and allowing ourselves to shine brightly. This can be achieved through creative expression, taking on leadership roles, sharing generosity and warmth with others, and embracing playfulness. It\\'s about finding ways to express your authentic self and celebrate your individuality.\"\\n  }\\n]\\n```'}}\n",
      "{'__interrupt__': (Interrupt(value='What do you think about this output?\\n```json\\n[\\n  {\\n    \"prompt\": \"Describe the core characteristics of Leo energy in astrology.\",\\n    \"completion\": \"Leo energy, ruled by the Sun, is fiery, bold, and expressive. It embodies warmth, creativity, and a desire for recognition. Key traits include radiant self-expression, natural leadership, generosity, pride, dignity, and playfulness. Leos often have a flair for drama and are natural leaders who inspire others.\"\\n  },\\n  {\\n    \"prompt\": \"How does Leo energy manifest in a birth chart?\",\\n    \"completion\": \"When Leo energy is prominent in a birth chart (Sun, Moon, rising sign, or multiple planets in Leo), it often manifests as a natural flair for drama, performance, and creative pursuits. Individuals with strong Leo placements tend to be natural leaders, generous, warm-hearted, and value respect and recognition. They also possess a youthful playfulness.\"\\n  },\\n  {\\n    \"prompt\": \"What are the positive and negative manifestations of Leo energy?\",\\n    \"completion\": \"In its balanced form, Leo energy brings courage, inspiration, and authentic self-expression. However, when excessive, it can manifest as egotism or attention-seeking behavior. When diminished, it can lead to insecurity or creative blocks. The key is to find a balance between shining brightly and being mindful of others.\"\\n  },\\n  {\\n    \"prompt\": \"Explain the connection between Leo energy and the Sun.\",\\n    \"completion\": \"Leo is ruled by the Sun, which is the center of our solar system. This connection highlights Leo\\'s radiant and central nature. Just as the Sun provides warmth and light, Leo energy radiates warmth, creativity, and a desire to be seen and appreciated. The Sun\\'s influence emphasizes Leo\\'s inherent desire to shine and express itself authentically.\"\\n  },\\n  {\\n    \"prompt\": \"How can someone honor their Leo energy?\",\\n    \"completion\": \"Leo energy reminds us of the importance of honoring our unique light and allowing ourselves to shine brightly. This can be achieved through creative expression, taking on leadership roles, sharing generosity and warmth with others, and embracing playfulness. It\\'s about finding ways to express your authentic self and celebrate your individuality.\"\\n  }\\n]\\n```', resumable=True, ns=['feedback_loop:fcd136d8-10b7-c52c-e25b-d5e293b5df05'], when='during'),)}\n"
     ]
    }
   ],
   "source": [
    "import uuid\n",
    "\n",
    "thread_config = {\n",
    "    'configurable': {\n",
    "        'thread_id': str(uuid.uuid4())\n",
    "    }}\n",
    "\n",
    "for update in agent.agent_flow.stream(\n",
    "    {\n",
    "        \"task\": example_task,\n",
    "        \"human_feedback\": None\n",
    "    },\n",
    "    config=thread_config,\n",
    "    stream_mode=\"updates\"\n",
    "):\n",
    "    print(update)"
   ]
  },
  {
   "cell_type": "code",
   "execution_count": 5,
   "metadata": {},
   "outputs": [
    {
     "name": "stderr",
     "output_type": "stream",
     "text": [
      "INFO:multi_agent:Human in the loop Feedback: It sounds a bit generic, can you act like you a client with Leo placement to ask question?\n",
      "INFO:root:AFC is enabled with max remote calls: 10.\n",
      "INFO:root:AFC remote call 1 is done.\n",
      "INFO:root:AFC is enabled with max remote calls: 10.\n",
      "INFO:root:AFC remote call 1 is done.\n",
      "INFO:multi_agent:Logging conversation!\n"
     ]
    },
    {
     "data": {
      "text/plain": [
       "{'task': Task(task_name='sft', grounded_knowledge=\"\\nLeo energy embodies the fiery, bold, and expressive nature of the fifth sign of the zodiac. Ruled by the Sun—the center of our solar system—Leo energy radiates warmth, creativity, and a natural desire to be seen and appreciated.\\nWhen Leo energy is prominent in a birth chart (whether through Sun, Moon, rising sign, or multiple planets in Leo), it often manifests as:\\nRadiant self-expression: A natural flair for drama, performance, and creative pursuits. Leo energy loves to express itself authentically and isn't afraid to stand out.\\nNatural leadership: Just as the lion is king of the jungle, Leo energy carries natural leadership qualities—commanding respect, inspiring others, and taking charge with confidence.\\nGenerosity and warmth: Leo energy is inherently giving, enthusiastic, and warm-hearted. It shares its light freely and enjoys making others feel special.\\nPride and dignity: There's a natural dignity to Leo energy that values respect and recognition. This can sometimes manifest as sensitivity to criticism or a strong need for acknowledgment.\\nPlayfulness: Despite its regal nature, Leo energy remains eternally youthful, finding joy in play, recreation, and celebration.\\nIn balanced form, Leo energy brings courage, inspiration, and authentic self-expression. When excessive, it might appear as egotism or attention-seeking behavior. When diminished, it can manifest as insecurity or creative blocks.\\nLeo energy reminds us all of the importance of honoring our unique light and allowing ourselves to shine brightly.\\n\", task_description='Generate training examples for an astrology llm!', num_of_data=5, language='English'),\n",
       " 'human_feedback': Feedback(approval='no', feedback='It sounds a bit generic, can you act like you a client with Leo placement to ask question?'),\n",
       " 'response': '```json\\n[\\n  {\\n    \"prompt\": \"Okay, so I\\'m a Leo rising, which means I\\'m supposed to be all about self-expression, right? But sometimes I feel like I\\'m just... shy. Is that even possible with all this Leo energy?\",\\n    \"completion\": \"It\\'s absolutely possible! While Leo rising often presents as confident and expressive, the rising sign is just the mask we show the world. Other placements in your chart, like a shy Moon or Saturn aspects, can temper that Leo energy. Also, sometimes Leo energy can be internalized; you might express it through creative hobbies you keep private, or by being a fiercely loyal and supportive friend, rather than being the center of attention. It\\'s about *how* you shine, not necessarily *how loudly*.\"\\n  },\\n  {\\n    \"prompt\": \"I have a Leo Moon, and everyone says Leos love attention. But I hate being the center of attention! I prefer smaller groups. Does that mean my Moon is broken?\",\\n    \"completion\": \"Your Moon isn\\'t broken! A Leo Moon means your *emotional* needs are tied to feeling seen and appreciated. It doesn\\'t necessarily mean you crave the spotlight. It might mean you need to feel valued in your close relationships, or that you express your emotions through creative outlets. Think of it as needing to feel *special* to the people you care about, rather than needing the adoration of a crowd. Consider the aspects to your Moon as well; Saturn might ground that Leo fire, while Jupiter could amplify it.\"\\n  },\\n  {\\n    \"prompt\": \"I\\'ve got Venus in Leo, and I hear that means I\\'m super dramatic in relationships. Is that true? I try to be a good partner!\",\\n    \"completion\": \"Venus in Leo does suggest a passionate and generous approach to love! It means you express affection openly and enjoy grand gestures. \\'Dramatic\\' isn\\'t necessarily negative; it can mean you\\'re expressive and romantic. You likely value loyalty and admiration in a relationship. The key is to be mindful of needing constant validation. As long as you\\'re giving as much as you\\'re receiving, and not demanding constant praise, your Venus in Leo can bring a lot of warmth and excitement to your partnerships.\"\\n  },\\n  {\\n    \"prompt\": \"My Sun is in Leo, so I\\'m basically Leo to the max. But I\\'m terrible at public speaking, which seems like a Leo\\'s worst nightmare. What gives?\",\\n    \"completion\": \"Having your Sun in Leo means your core identity is tied to expressing your creativity and individuality. The fear of public speaking doesn\\'t negate that! It could mean you need to find your own unique way to shine. Perhaps you express your Leo energy through writing, art, or one-on-one interactions. Also, look at aspects to your Sun. A challenging aspect from Saturn could create self-doubt, while a positive aspect from Jupiter could boost your confidence in other areas. It\\'s about finding *your* stage, not necessarily *the* stage.\"\\n  },\\n  {\\n    \"prompt\": \"I have a lot of planets in Leo, and I\\'m constantly worried about what people think of me. Isn\\'t Leo supposed to be confident and not care? Am I doing it wrong?\",\\n    \"completion\": \"Having multiple planets in Leo amplifies the need for recognition and validation, but it doesn\\'t automatically equate to unwavering confidence. In fact, the more Leo energy you have, the more sensitive you might be to criticism! The key is to build self-esteem from within, rather than relying solely on external validation. Focus on developing your talents and expressing yourself authentically, regardless of what others think. Remember, true Leo energy is about shining *your* light, not dimming it to please others. Consider exploring practices that build self-compassion and inner security.\"\\n  }\\n]\\n```'}"
      ]
     },
     "execution_count": 5,
     "metadata": {},
     "output_type": "execute_result"
    }
   ],
   "source": [
    "from langgraph.types import Command\n",
    "agent.agent_flow.invoke(Command(resume='It sounds a bit generic, can you act like you a client with Leo placement to ask question?'), config=thread_config)\n",
    "agent.agent_flow.invoke(Command(resume='no'), config=thread_config)"
   ]
  }
 ],
 "metadata": {
  "kernelspec": {
   "display_name": "Python 3",
   "language": "python",
   "name": "python3"
  },
  "language_info": {
   "codemirror_mode": {
    "name": "ipython",
    "version": 3
   },
   "file_extension": ".py",
   "mimetype": "text/x-python",
   "name": "python",
   "nbconvert_exporter": "python",
   "pygments_lexer": "ipython3",
   "version": "3.10.0"
  }
 },
 "nbformat": 4,
 "nbformat_minor": 2
}
