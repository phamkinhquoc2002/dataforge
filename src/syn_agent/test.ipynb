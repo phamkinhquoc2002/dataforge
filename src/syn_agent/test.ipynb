{
 "cells": [
  {
   "cell_type": "code",
   "execution_count": 2,
   "metadata": {},
   "outputs": [
    {
     "name": "stdout",
     "output_type": "stream",
     "text": [
      "[{'key': 'value', 'key2': 'value2'}]\n"
     ]
    }
   ],
   "source": [
    "from utils import extract_valid_output\n",
    "\n",
    "valid_output = extract_valid_output(\n",
    "    output = \"\"\"\n",
    "json\n",
    "[\n",
    "{\n",
    "\"key\": \"value\", \"key2\": \"value2\"}\n",
    "]\n",
    "\"\"\"\n",
    ")\n",
    "\n",
    "print(valid_output)"
   ]
  }
 ],
 "metadata": {
  "kernelspec": {
   "display_name": "Python 3",
   "language": "python",
   "name": "python3"
  },
  "language_info": {
   "codemirror_mode": {
    "name": "ipython",
    "version": 3
   },
   "file_extension": ".py",
   "mimetype": "text/x-python",
   "name": "python",
   "nbconvert_exporter": "python",
   "pygments_lexer": "ipython3",
   "version": "3.10.0"
  }
 },
 "nbformat": 4,
 "nbformat_minor": 2
}
