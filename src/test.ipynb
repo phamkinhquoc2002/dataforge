{
 "cells": [
  {
   "cell_type": "code",
   "execution_count": null,
   "metadata": {},
   "outputs": [],
   "source": [
    "from langchain_docling import DoclingLoader\n",
    "from docling.chunking import HybridChunker\n",
    "\n",
    "chunker = HybridChunker(max_tokens=4000)\n",
    "loader = DoclingLoader('cv.pdf', chunker=chunker)"
   ]
  },
  {
   "cell_type": "code",
   "execution_count": 1,
   "metadata": {},
   "outputs": [
    {
     "name": "stderr",
     "output_type": "stream",
     "text": [
      "c:\\Users\\quock\\Downloads\\syndata_agent\\venv\\Lib\\site-packages\\tqdm\\auto.py:21: TqdmWarning: IProgress not found. Please update jupyter and ipywidgets. See https://ipywidgets.readthedocs.io/en/stable/user_install.html\n",
      "  from .autonotebook import tqdm as notebook_tqdm\n"
     ]
    },
    {
     "data": {
      "text/html": [
       "<pre style=\"white-space:pre;overflow-x:auto;line-height:normal;font-family:Menlo,'DejaVu Sans Mono',consolas,'Courier New',monospace\"><span style=\"color: #800000; text-decoration-color: #800000\">╭───────────────────────────────────────────────────── ERROR ─────────────────────────────────────────────────────╮</span>\n",
       "<span style=\"color: #800000; text-decoration-color: #800000\">│</span> <span style=\"color: #c0c0c0; text-decoration-color: #c0c0c0\">Error parsing PDF:</span>                                                                                              <span style=\"color: #800000; text-decoration-color: #800000\">│</span>\n",
       "<span style=\"color: #800000; text-decoration-color: #800000\">│</span>                                                                                                                 <span style=\"color: #800000; text-decoration-color: #800000\">│</span>\n",
       "<span style=\"color: #800000; text-decoration-color: #800000\">│</span> <span style=\"color: #c0c0c0; text-decoration-color: #c0c0c0\">Subscripted generics cannot be used with class and instance checks</span>                                              <span style=\"color: #800000; text-decoration-color: #800000\">│</span>\n",
       "<span style=\"color: #800000; text-decoration-color: #800000\">╰─────────────────────────────────────────────────────────────────────────────────────────────────────────────────╯</span>\n",
       "</pre>\n"
      ],
      "text/plain": [
       "\u001b[31m╭─\u001b[0m\u001b[31m────────────────────────────────────────────────────\u001b[0m\u001b[31m ERROR \u001b[0m\u001b[31m────────────────────────────────────────────────────\u001b[0m\u001b[31m─╮\u001b[0m\n",
       "\u001b[31m│\u001b[0m \u001b[37mError parsing PDF:\u001b[0m                                                                                              \u001b[31m│\u001b[0m\n",
       "\u001b[31m│\u001b[0m                                                                                                                 \u001b[31m│\u001b[0m\n",
       "\u001b[31m│\u001b[0m \u001b[37mSubscripted generics cannot be used with class and instance checks\u001b[0m                                              \u001b[31m│\u001b[0m\n",
       "\u001b[31m╰─────────────────────────────────────────────────────────────────────────────────────────────────────────────────╯\u001b[0m\n"
      ]
     },
     "metadata": {},
     "output_type": "display_data"
    },
    {
     "ename": "ValueError",
     "evalue": "Error parsing PDF file",
     "output_type": "error",
     "traceback": [
      "\u001b[31m---------------------------------------------------------------------------\u001b[39m",
      "\u001b[31mTypeError\u001b[39m                                 Traceback (most recent call last)",
      "\u001b[36mFile \u001b[39m\u001b[32mc:\\Users\\quock\\Downloads\\syndata_agent\\src\\utils.py:242\u001b[39m, in \u001b[36mpdf_parser\u001b[39m\u001b[34m(path)\u001b[39m\n\u001b[32m    241\u001b[39m pdf = loader.load()\n\u001b[32m--> \u001b[39m\u001b[32m242\u001b[39m \u001b[38;5;28;01mif\u001b[39;00m \u001b[38;5;28;43misinstance\u001b[39;49m\u001b[43m(\u001b[49m\u001b[43mpdf\u001b[49m\u001b[43m,\u001b[49m\u001b[43m \u001b[49m\u001b[43mList\u001b[49m\u001b[43m[\u001b[49m\u001b[43mDocument\u001b[49m\u001b[43m]\u001b[49m\u001b[43m)\u001b[49m:\n\u001b[32m    243\u001b[39m     log_message(\n\u001b[32m    244\u001b[39m         {\n\u001b[32m    245\u001b[39m             \u001b[33m\"\u001b[39m\u001b[33mtype\u001b[39m\u001b[33m\"\u001b[39m:\u001b[33m\"\u001b[39m\u001b[33mINFO\u001b[39m\u001b[33m\"\u001b[39m,\n\u001b[32m    246\u001b[39m             \u001b[33m\"\u001b[39m\u001b[33mtext\u001b[39m\u001b[33m\"\u001b[39m: \u001b[33mf\u001b[39m\u001b[33m\"\u001b[39m\u001b[33mExtracted \u001b[39m\u001b[38;5;132;01m{\u001b[39;00m\u001b[38;5;28mlen\u001b[39m(pdf)\u001b[38;5;132;01m}\u001b[39;00m\u001b[33m pages. First page preview:\u001b[39m\u001b[38;5;130;01m\\n\u001b[39;00m\u001b[38;5;130;01m\\n\u001b[39;00m\u001b[38;5;132;01m{\u001b[39;00mpdf[\u001b[32m0\u001b[39m]\u001b[38;5;132;01m}\u001b[39;00m\u001b[33m...\u001b[39m\u001b[33m\"\u001b[39m\n\u001b[32m    247\u001b[39m         }\n\u001b[32m    248\u001b[39m     )\n",
      "\u001b[36mFile \u001b[39m\u001b[32mC:\\Program Files\\WindowsApps\\PythonSoftwareFoundation.Python.3.11_3.11.2544.0_x64__qbz5n2kfra8p0\\Lib\\typing.py:1328\u001b[39m, in \u001b[36m_BaseGenericAlias.__instancecheck__\u001b[39m\u001b[34m(self, obj)\u001b[39m\n\u001b[32m   1327\u001b[39m \u001b[38;5;28;01mdef\u001b[39;00m\u001b[38;5;250m \u001b[39m\u001b[34m__instancecheck__\u001b[39m(\u001b[38;5;28mself\u001b[39m, obj):\n\u001b[32m-> \u001b[39m\u001b[32m1328\u001b[39m     \u001b[38;5;28;01mreturn\u001b[39;00m \u001b[38;5;28;43mself\u001b[39;49m\u001b[43m.\u001b[49m\u001b[34;43m__subclasscheck__\u001b[39;49m\u001b[43m(\u001b[49m\u001b[38;5;28;43mtype\u001b[39;49m\u001b[43m(\u001b[49m\u001b[43mobj\u001b[49m\u001b[43m)\u001b[49m\u001b[43m)\u001b[49m\n",
      "\u001b[36mFile \u001b[39m\u001b[32mC:\\Program Files\\WindowsApps\\PythonSoftwareFoundation.Python.3.11_3.11.2544.0_x64__qbz5n2kfra8p0\\Lib\\typing.py:1331\u001b[39m, in \u001b[36m_BaseGenericAlias.__subclasscheck__\u001b[39m\u001b[34m(self, cls)\u001b[39m\n\u001b[32m   1330\u001b[39m \u001b[38;5;28;01mdef\u001b[39;00m\u001b[38;5;250m \u001b[39m\u001b[34m__subclasscheck__\u001b[39m(\u001b[38;5;28mself\u001b[39m, \u001b[38;5;28mcls\u001b[39m):\n\u001b[32m-> \u001b[39m\u001b[32m1331\u001b[39m     \u001b[38;5;28;01mraise\u001b[39;00m \u001b[38;5;167;01mTypeError\u001b[39;00m(\u001b[33m\"\u001b[39m\u001b[33mSubscripted generics cannot be used with\u001b[39m\u001b[33m\"\u001b[39m\n\u001b[32m   1332\u001b[39m                     \u001b[33m\"\u001b[39m\u001b[33m class and instance checks\u001b[39m\u001b[33m\"\u001b[39m)\n",
      "\u001b[31mTypeError\u001b[39m: Subscripted generics cannot be used with class and instance checks",
      "\nDuring handling of the above exception, another exception occurred:\n",
      "\u001b[31mValueError\u001b[39m                                Traceback (most recent call last)",
      "\u001b[36mCell\u001b[39m\u001b[36m \u001b[39m\u001b[32mIn[1]\u001b[39m\u001b[32m, line 12\u001b[39m\n\u001b[32m     10\u001b[39m key = os.environ.get(\u001b[33m'\u001b[39m\u001b[33mGOOGLE_API_KEY\u001b[39m\u001b[33m'\u001b[39m)\n\u001b[32m     11\u001b[39m llm = GoogleAIModel(api_key=key)\n\u001b[32m---> \u001b[39m\u001b[32m12\u001b[39m pdf_files = \u001b[43mpdf_parser\u001b[49m\u001b[43m(\u001b[49m\u001b[33;43m'\u001b[39;49m\u001b[33;43mcv.pdf\u001b[39;49m\u001b[33;43m'\u001b[39;49m\u001b[43m)\u001b[49m\n\u001b[32m     13\u001b[39m batch_size = \u001b[32m3\u001b[39m\n\u001b[32m     15\u001b[39m bm25retriever = BM25Retriever.from_documents(pdf_files, k=batch_size)\n",
      "\u001b[36mFile \u001b[39m\u001b[32mc:\\Users\\quock\\Downloads\\syndata_agent\\src\\utils.py:263\u001b[39m, in \u001b[36mpdf_parser\u001b[39m\u001b[34m(path)\u001b[39m\n\u001b[32m    256\u001b[39m     \u001b[38;5;28;01mexcept\u001b[39;00m \u001b[38;5;167;01mException\u001b[39;00m \u001b[38;5;28;01mas\u001b[39;00m e:\n\u001b[32m    257\u001b[39m         log_message(\n\u001b[32m    258\u001b[39m             {\n\u001b[32m    259\u001b[39m                 \u001b[33m\"\u001b[39m\u001b[33mtype\u001b[39m\u001b[33m\"\u001b[39m: \u001b[33m\"\u001b[39m\u001b[33mERROR\u001b[39m\u001b[33m\"\u001b[39m, \n\u001b[32m    260\u001b[39m                 \u001b[33m\"\u001b[39m\u001b[33mtext\u001b[39m\u001b[33m\"\u001b[39m:\u001b[33mf\u001b[39m\u001b[33m\"\u001b[39m\u001b[33mError parsing PDF:\u001b[39m\u001b[38;5;130;01m\\n\u001b[39;00m\u001b[38;5;130;01m\\n\u001b[39;00m\u001b[38;5;132;01m{\u001b[39;00m\u001b[38;5;28mstr\u001b[39m(e)\u001b[38;5;132;01m}\u001b[39;00m\u001b[33m\"\u001b[39m\n\u001b[32m    261\u001b[39m             }\n\u001b[32m    262\u001b[39m         )\n\u001b[32m--> \u001b[39m\u001b[32m263\u001b[39m         \u001b[38;5;28;01mraise\u001b[39;00m \u001b[38;5;167;01mValueError\u001b[39;00m(\u001b[33m\"\u001b[39m\u001b[33mError parsing PDF file\u001b[39m\u001b[33m\"\u001b[39m)\n\u001b[32m    264\u001b[39m \u001b[38;5;28;01melse\u001b[39;00m:\n\u001b[32m    265\u001b[39m     log_message(\n\u001b[32m    266\u001b[39m         {\n\u001b[32m    267\u001b[39m             \u001b[33m\"\u001b[39m\u001b[33mtype\u001b[39m\u001b[33m\"\u001b[39m:\u001b[33m\"\u001b[39m\u001b[33mINFO\u001b[39m\u001b[33m\"\u001b[39m,\n\u001b[32m    268\u001b[39m             \u001b[33m\"\u001b[39m\u001b[33mtext\u001b[39m\u001b[33m\"\u001b[39m: \u001b[33mf\u001b[39m\u001b[33m\"\u001b[39m\u001b[33mPDF file not found at path:\u001b[39m\u001b[38;5;130;01m\\n\u001b[39;00m\u001b[38;5;130;01m\\n\u001b[39;00m\u001b[38;5;132;01m{\u001b[39;00mpath\u001b[38;5;132;01m}\u001b[39;00m\u001b[33m\"\u001b[39m\n\u001b[32m    269\u001b[39m         }\n\u001b[32m    270\u001b[39m     )\n",
      "\u001b[31mValueError\u001b[39m: Error parsing PDF file"
     ]
    }
   ],
   "source": [
    "from llm_providers import GoogleAIModel\n",
    "import os\n",
    "from dotenv import load_dotenv\n",
    "from multi_agent import SyntheticDataGenerator\n",
    "from langchain_community.retrievers import BM25Retriever\n",
    "from utils import pdf_parser\n",
    "from tasks import Task\n",
    "\n",
    "load_dotenv()\n",
    "key = os.environ.get('GOOGLE_API_KEY')\n",
    "llm = GoogleAIModel(api_key=key)\n",
    "pdf_files = pdf_parser('cv.pdf')\n",
    "batch_size = 3\n",
    "\n",
    "bm25retriever = BM25Retriever.from_documents(pdf_files, k=batch_size)\n",
    "thread_config = {'configurable': {'thread_id': 123}}\n",
    "\n",
    "agent = SyntheticDataGenerator(llm=llm, \n",
    "                               retriever=bm25retriever,\n",
    "                               output_path='./output',\n",
    "                               buffer_size=5,\n",
    "                               thread_id=thread_config)\n",
    "\n",
    "example_task = Task(\n",
    "    task_name=\"dpo\",\n",
    "    localization='Optimization, Data Science and AI',\n",
    "    task_description=\"Generate a conversation between a HR manager and a candidate applying for a data science position using this information.\",\n",
    "    rows_per_batch=11,\n",
    "    language=\"Vietnamese\"\n",
    ")"
   ]
  },
  {
   "cell_type": "code",
   "execution_count": null,
   "metadata": {},
   "outputs": [],
   "source": [
    "async for output in agent.agent_flow.astream(\n",
    "    {\n",
    "        \"task\": example_task,\n",
    "        \"human_feedback\": None,\n",
    "        \"conversations\": []\n",
    "    }\n",
    "    ,\n",
    "    config=thread_config, \n",
    "    stream_mode=\"updates\"):\n",
    "    for key, value in output.items():\n",
    "        print(f\"{key}: {value}\")\n",
    "        if key == '__interrupt__':\n",
    "            print(\"Ayo LIL homie\")\n",
    "    print(\"\\n------------------------------\\n\")"
   ]
  },
  {
   "cell_type": "code",
   "execution_count": null,
   "metadata": {},
   "outputs": [],
   "source": [
    "from langgraph.types import Command\n",
    "\n",
    "await agent.agent_flow.ainvoke(\n",
    "    Command(resume='no'),\n",
    "    config=thread_config\n",
    ")"
   ]
  }
 ],
 "metadata": {
  "kernelspec": {
   "display_name": "venv",
   "language": "python",
   "name": "python3"
  },
  "language_info": {
   "codemirror_mode": {
    "name": "ipython",
    "version": 3
   },
   "file_extension": ".py",
   "mimetype": "text/x-python",
   "name": "python",
   "nbconvert_exporter": "python",
   "pygments_lexer": "ipython3",
   "version": "3.11.9"
  }
 },
 "nbformat": 4,
 "nbformat_minor": 2
}
